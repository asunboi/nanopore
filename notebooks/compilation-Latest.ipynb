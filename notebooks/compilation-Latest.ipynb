{
 "cells": [
  {
   "cell_type": "code",
   "execution_count": 1,
   "id": "17d8a37e-4c22-44b4-b6c0-a5246f46ad52",
   "metadata": {},
   "outputs": [],
   "source": [
    "# importing pandas\n",
    "from matplotlib import pyplot as plt \n",
    "import pandas as pd\n",
    "import sys\n",
    "from itertools import islice\n",
    "import ast\n"
   ]
  },
  {
   "cell_type": "code",
   "execution_count": 3,
   "id": "0d1dcf5d-af3c-4cdc-a63a-cf48b78af5bc",
   "metadata": {},
   "outputs": [
    {
     "name": "stdout",
     "output_type": "stream",
     "text": [
      "[(6, 7, 'he'), (6, 7, 'av')]\n",
      "[(1, 2, 'te'), (3, 3, 's'), (4, 5, 'ti'), (6, 7, 'ng'), (20, 20, 'l')]\n",
      "testing\n",
      "[(1, 2, 'te'), (7, 9, 'g')]\n"
     ]
    }
   ],
   "source": [
    "def create_tuples(array1, string1):\n",
    "    result_tuples = []\n",
    "\n",
    "    for arr in array1:\n",
    "        start1, end1 = arr[0]\n",
    "        start2, end2 = arr[1]\n",
    "        substring = string1[start1 - 1:end1]\n",
    "        result_tuples.append((start2, end2, substring))\n",
    "\n",
    "    return result_tuples\n",
    "\n",
    "Array1 = [[(1, 2), (6, 7)], [(3, 4), (6, 7)]]\n",
    "String1 = \"heavenly\"\n",
    "\n",
    "output = create_tuples(Array1, String1)\n",
    "print(output)\n",
    "\n",
    "def sort_and_insert_tuples(Array1, Array2):\n",
    "    result = []\n",
    "    i = 0\n",
    "\n",
    "    for a2 in Array2:\n",
    "        first_int_a2 = int(a2[0])\n",
    "        while i < len(Array1) and first_int_a2 > int(Array1[i][1]):\n",
    "            result.append(Array1[i])\n",
    "            i += 1\n",
    "        \n",
    "        result.append(a2)\n",
    "    \n",
    "    result.extend(Array1[i:])\n",
    "    \n",
    "    return result\n",
    "\n",
    "Array1 = [(1, 2, 'te'), (4, 5, 'ti')]\n",
    "Array2 = [(3, 3, 's'), (6, 7, 'ng'), (20,20,\"l\")]\n",
    "\n",
    "output = sort_and_insert_tuples(Array1, Array2)\n",
    "print(output)\n",
    "\n",
    "def concatenate_tuples(arr):\n",
    "    concatenated_string = ''.join(tup[2] for tup in arr)\n",
    "    return concatenated_string\n",
    "\n",
    "input_array = [(1, 2, 'te'), (3, 3, 's'), (4, 5, 'ti'), (6, 7, 'ng')]\n",
    "output_string = concatenate_tuples(input_array)\n",
    "print(output_string)\n",
    "\n",
    "def compare_and_combine(array1, array2):\n",
    "    result = []\n",
    "\n",
    "    for a2 in array2:\n",
    "        for a1 in array1:\n",
    "            if a1[0][0] <= a2[0] <= a1[0][1] and a1[0][0] <= a2[1] <= a1[0][1]:\n",
    "                result.append((a2[0]+a1[2],a2[1]+a1[2], a2[2]))\n",
    "\n",
    "    return result\n",
    "\n",
    "array1 = [[(1, 2), (1, 2), 0], [(3, 5), (7, 9), 4]]\n",
    "array2 = [(1, 2, \"te\"), (3, 5, \"g\")]\n",
    "\n",
    "output = compare_and_combine(array1, array2)\n",
    "print(output)"
   ]
  },
  {
   "cell_type": "code",
   "execution_count": 42,
   "id": "227404d9-0576-4a5d-9bb1-232075b09f22",
   "metadata": {},
   "outputs": [
    {
     "name": "stdout",
     "output_type": "stream",
     "text": [
      "[(21, 51, 'GGACAAACCACAACTAGAATGCAGTGAAAAA'), (206, 206, 'A')]\n"
     ]
    }
   ],
   "source": [
    "def compare_and_combine(array1, array2):\n",
    "    result = []\n",
    "\n",
    "    for a2 in array2:\n",
    "        for a1 in array1:\n",
    "            if a1[0][0] <= a2[0] <= a1[0][1]:\n",
    "                if a1[0][0] <= a2[1] <= a1[0][1]:\n",
    "                    result.append((a2[0]+a1[2],a2[1]+a1[2], a2[2]))\n",
    "                else:\n",
    "                    x = a2[1] - a1[0][1]\n",
    "                    result.append((a2[0]+a1[2],a1[1][1], a2[2][:-x]))\n",
    "                    array2.append((a1[1][1]+1, a2[1], a2[2][-x:]))\n",
    "\n",
    "    return result\n",
    "\n",
    "#array1 = [[(1, 2), (1, 2), 0], [(3, 5), (7, 9), 4]]\n",
    "#array2 = [(1, 2, \"te\"), (3, 5, \"g\")]\n",
    "\n",
    "array1 = [[(1, 51), (1, 51), 0], [(52, 52), (206, 206), 154]]\n",
    "array2 = [(21, 52, 'GGACAAACCACAACTAGAATGCAGTGAAAAAA')]\n",
    "\n",
    "output = compare_and_combine(array1, array2)\n",
    "print(output)"
   ]
  },
  {
   "cell_type": "code",
   "execution_count": 16,
   "id": "b21e98c9-0da6-4ed6-b7af-ad82d7f05c73",
   "metadata": {},
   "outputs": [
    {
     "name": "stdout",
     "output_type": "stream",
     "text": [
      "Number of lines in the file: 4\n"
     ]
    }
   ],
   "source": [
    "file_path = \"all.remaining.txt\"  # Replace with the path to your file\n",
    "\n",
    "line_count = 0\n",
    "\n",
    "remaining_dictionaries = {}\n",
    "\n",
    "\n",
    "with open(file_path, \"r\") as file:\n",
    "    for line in file:\n",
    "        newLine = line.replace(\"\\n\", \"\")\n",
    "        line_count += 1\n",
    "        remaining_dictionaries[newLine] = {}\n",
    "\n",
    "\n",
    "print(f\"Number of lines in the file: {line_count}\")\n"
   ]
  },
  {
   "cell_type": "code",
   "execution_count": 17,
   "id": "5162143f-6a38-400b-85df-dddeb4ef3b6b",
   "metadata": {},
   "outputs": [
    {
     "name": "stdout",
     "output_type": "stream",
     "text": [
      "{'1_filter.remaining.txt': {}, '2_filter.remaining.txt': {}, '3_filter.remaining.txt': {}, '4_filter.remaining.txt': {}}\n"
     ]
    }
   ],
   "source": [
    "print(remaining_dictionaries)\n"
   ]
  },
  {
   "cell_type": "code",
   "execution_count": 19,
   "id": "1914eaf5-915e-4218-a805-3992dbe3d36a",
   "metadata": {},
   "outputs": [],
   "source": [
    "for key, value in remaining_dictionaries.items():\n",
    "    with open(key, 'r') as file:\n",
    "        for line in file:\n",
    "            try:\n",
    "                tempArray = ast.literal_eval(line)\n",
    "                if isinstance(tempArray, list):\n",
    "                    internalKey = tempArray[0]\n",
    "                    internalValue = tempArray[1:]\n",
    "                    value[internalKey] = internalValue\n",
    "                else:\n",
    "                    print(\"The evaluated result is not a list.\")\n",
    "            except (SyntaxError, ValueError):\n",
    "                print(\"Invalid input string.\")\n",
    "    file.close()"
   ]
  },
  {
   "cell_type": "code",
   "execution_count": 21,
   "id": "d0fc1682-74d0-4dfe-b75b-883af2427bc6",
   "metadata": {},
   "outputs": [],
   "source": [
    "#print(remaining_dictionaries)"
   ]
  },
  {
   "cell_type": "code",
   "execution_count": 22,
   "id": "e385cccd-bbb2-41e1-b5be-0fed7174ee5c",
   "metadata": {},
   "outputs": [
    {
     "name": "stdout",
     "output_type": "stream",
     "text": [
      "Key: c, Value: 3\n",
      "Key: b, Value: 2\n",
      "Key: a, Value: 1\n"
     ]
    }
   ],
   "source": [
    "my_dict = {'a': 1, 'b': 2, 'c': 3}\n",
    "\n",
    "# Get keys in reverse order\n",
    "keys_in_reverse = list(reversed(my_dict.keys()))\n",
    "\n",
    "# Iterate through the keys in reverse order\n",
    "for key in keys_in_reverse:\n",
    "    value = my_dict[key]\n",
    "    print(f\"Key: {key}, Value: {value}\")\n"
   ]
  },
  {
   "cell_type": "code",
   "execution_count": 28,
   "id": "dcff3b0d-b64a-46d9-8ae2-b9d57a96063c",
   "metadata": {},
   "outputs": [
    {
     "name": "stdout",
     "output_type": "stream",
     "text": [
      "1_filter.remaining.txt\n",
      "2_filter.remaining.txt\n",
      "1_filter.remaining.txt\n",
      "3_filter.remaining.txt\n",
      "2_filter.remaining.txt\n",
      "1_filter.remaining.txt\n"
     ]
    }
   ],
   "source": [
    "for i in range(1,line_count+1):\n",
    "    for j in range(i-1, 0, -1):\n",
    "        if key in remaining_dictionaries[f\"{j}_filter.remaining.txt\"]:\n",
    "            remainingArray = remaining_dictionaries[f\"{j}_filter.remaining.txt\"][key]\n",
    "            tempValues = compare_and_combine(remainingArray, values)\n",
    "            values = tempValues\n",
    "        else:\n",
    "            continue\n",
    "        \n",
    "        \n",
    "        if f\"{j}_filter.remaining.txt\" in remaining_dictionaries:\n",
    "            print(f\"{j}_filter.remaining.txt\")\n"
   ]
  },
  {
   "cell_type": "code",
   "execution_count": 43,
   "id": "82bec87a-1101-42f3-a312-a2ef1e69b921",
   "metadata": {},
   "outputs": [
    {
     "name": "stdout",
     "output_type": "stream",
     "text": [
      "Currently on file 1\n",
      "Currently on file 2\n",
      "Currently on file 3\n",
      "Currently on file 4\n"
     ]
    }
   ],
   "source": [
    "substringsDict = {}\n",
    "    \n",
    "for i in range(1,line_count+1):\n",
    "    print(f\"Currently on file {i}\")\n",
    "    if i == 1:\n",
    "        with open(f'{i}_filter.substrings.txt', 'r') as file:\n",
    "            for line in file:\n",
    "                try:\n",
    "                    tempArray = eval(line)\n",
    "                    key = tempArray[0]\n",
    "                    values = tempArray[1:]\n",
    "\n",
    "                    if key in substringsDict:\n",
    "                        substringsDict[key].extend(values)\n",
    "                    else:\n",
    "                        substringsDict[key] = values\n",
    "                except Exception as e:\n",
    "                    print(f\"Error evaluating line: {line}\")\n",
    "                    print(f\"Error message: {e}\")\n",
    "        file.close()\n",
    "    else:\n",
    "        with open(f'{i}_filter.substrings.txt', 'r') as file:\n",
    "            for line in file:\n",
    "                try:\n",
    "                    tempArray = eval(line)\n",
    "                    key = tempArray[0]\n",
    "                    values = tempArray[1:]\n",
    "                    for j in range(i-1, 0, -1):\n",
    "                        if key in remaining_dictionaries[f\"{j}_filter.remaining.txt\"]:\n",
    "                            remainingArray = remaining_dictionaries[f\"{j}_filter.remaining.txt\"][key]\n",
    "                            tempValues = compare_and_combine(remainingArray, values)\n",
    "                            values = tempValues\n",
    "                    currentValues = substringsDict[key]\n",
    "                    sortedValues = sort_and_insert_tuples(values, currentValues)\n",
    "                    substringsDict[key] = sortedValues\n",
    "                except Exception as e:\n",
    "                    print(f\"Error evaluating line: {line}\")\n",
    "                    print(f\"Error message: {e}\")\n",
    "        file.close()\n",
    "\n",
    "        \n",
    "    "
   ]
  },
  {
   "cell_type": "code",
   "execution_count": 44,
   "id": "b5566862-2718-47b1-af22-d81a9bf7cad3",
   "metadata": {},
   "outputs": [
    {
     "name": "stdout",
     "output_type": "stream",
     "text": [
      "[(21, 517, 'TTAAAAAACCTCCCACACCTCCCTGAACCTGAAACATAAAATGAATGCAATTGTTATTTGTTAACTTGTTTGTACAGTATAATGAACAAATAAAGCAATAGCATCACAAGTCACAAATAAAGCATTTTTTCTTGCTGCATTCTAGTTGTGGTTTGTCCAAACTCATCAATGTATCTTAGCTCTAGACGTTACGCAACTTACGGTAAATGGCCCGCCTGGCCGACCGCCCAGCGACCCCCGCCCATTGACGTCAATAATGACGTATGTTCCCATCAAGTAACGCCAATCCGGGACTTCCATTGACGTCGATAGGTGGGTATTTACAACTGCCCACTTGGCAGTACATCAAGTGTATCATATGCCAATGCACTTTGGGATGACGTCAATGACGGTAAATGGCCCGCCTGGCATTATGCCCAGTACATGACCTTATGGGACTTTCCTACTTGGCGGTGCATCCTACATTAGTCATCGCTATTACCATGGTGATGCGGTTT'), (518, 548, 'GGACAAACCACAACTAGAATGCAGTGAAAAA'), (549, 702, 'TGTGATGCTATTGCTTTATTTGTAGCCATTATAAGCTGCAATAAACAAGTTAGTAACAGCAATTGCATTCATTTATGTTTCAGGTTCAGCGTGGGGTTTTTAAAGCAAGTAAAACCTCTACCCAAATGTGGTATGGTGATTATGATCAGTTATC'), (703, 703, 'A')]\n"
     ]
    }
   ],
   "source": [
    "print(substringsDict[\"8b99514b-b3f7-42b1-a49e-acc443f07113\"])"
   ]
  },
  {
   "cell_type": "code",
   "execution_count": 45,
   "id": "14b19da2-72f5-4cfc-a085-f8fa13f9ff64",
   "metadata": {},
   "outputs": [],
   "source": [
    "f = open(\"LHS2\" + \".fa\", \"w\")\n",
    "for key, value in substringsDict.items():\n",
    "    LHS = concatenate_tuples(value)\n",
    "    f.write(\">\" + key + '\\n')\n",
    "    f.write(LHS + '\\n')\n",
    "f.close()"
   ]
  },
  {
   "cell_type": "code",
   "execution_count": null,
   "id": "52e86830-a852-4ae3-b8bd-f42a5bac2820",
   "metadata": {},
   "outputs": [],
   "source": []
  }
 ],
 "metadata": {
  "kernelspec": {
   "display_name": "Python 3",
   "language": "python",
   "name": "python3"
  },
  "language_info": {
   "codemirror_mode": {
    "name": "ipython",
    "version": 3
   },
   "file_extension": ".py",
   "mimetype": "text/x-python",
   "name": "python",
   "nbconvert_exporter": "python",
   "pygments_lexer": "ipython3",
   "version": "3.8.3"
  }
 },
 "nbformat": 4,
 "nbformat_minor": 5
}
