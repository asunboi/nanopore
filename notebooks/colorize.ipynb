{
 "cells": [
  {
   "cell_type": "code",
   "execution_count": null,
   "id": "007e11d1-e450-4d1f-9d19-d078237bf63d",
   "metadata": {},
   "outputs": [],
   "source": [
    "# importing pandas\n",
    "from matplotlib import pyplot as plt \n",
    "import pandas as pd\n",
    "import sys\n",
    "from itertools import islice\n",
    "import ast\n",
    "import json"
   ]
  },
  {
   "cell_type": "code",
   "execution_count": 4,
   "id": "5c68c9ba-2738-4d3a-8af6-d94865fcb71b",
   "metadata": {},
   "outputs": [
    {
     "name": "stdout",
     "output_type": "stream",
     "text": [
      "\u001b[92mte\u001b[0ms\u001b[91mt\u001b[0ming\n"
     ]
    }
   ],
   "source": [
    "def color_substrings(array1, string):\n",
    "    # ANSI escape codes for text color\n",
    "    GREEN = \"\\033[92m\"\n",
    "    RED = \"\\033[91m\"\n",
    "    BLACK = \"\\033[30m\"\n",
    "    RESET = \"\\033[0m\"\n",
    "    \n",
    "    # Process and append the substrings to a string\n",
    "    colored_output = \"\"\n",
    "\n",
    "    lbound = 0\n",
    "    for start, end, _, operation in array1:\n",
    "        colored_output += string[lbound:start-1]\n",
    "        substring = string[start-1:end]\n",
    "        if operation == \"plus\":\n",
    "            colored_output += GREEN + substring + RESET\n",
    "        elif operation == \"minus\":\n",
    "            colored_output += RED + substring + RESET\n",
    "        lbound = end\n",
    "    colored_output += string[array1[-1][1]:]\n",
    "    return colored_output\n",
    "\n",
    "string = \"testing\"\n",
    "array1 = [(1, 2, str, \"plus\"), (4, 4, str, \"minus\")]\n",
    "\n",
    "result = color_substrings(array1, string)\n",
    "print(result)"
   ]
  },
  {
   "cell_type": "code",
   "execution_count": 5,
   "id": "711f7a8d-1dcc-4fdc-93d1-b80155a78349",
   "metadata": {},
   "outputs": [],
   "source": [
    "# Specify the JSON file path\n",
    "json_file = \"all.substrings.json\"\n",
    "\n",
    "# Read the dictionary from the JSON file\n",
    "with open(json_file, \"r\") as file:\n",
    "    substringsDict = json.load(file)\n",
    "file.close()"
   ]
  },
  {
   "cell_type": "code",
   "execution_count": 6,
   "id": "be1312ae-22a8-43cc-b821-9b904e514ff1",
   "metadata": {},
   "outputs": [],
   "source": [
    "reads = pd.read_csv(\"final_reads.tsv\", sep='\\t', header=None)\n",
    "\n",
    "# display DataFrame\n",
    "readsArray = reads.to_numpy()\n",
    "readsDict = {}\n",
    "\n",
    "for i in readsArray:\n",
    "    if i[0] in readsDict:\n",
    "        readsDict[i[0]].append(i[2])\n",
    "    else:\n",
    "        tempArray = [i[2]]\n",
    "        readsDict[i[0]] = tempArray\n"
   ]
  },
  {
   "cell_type": "code",
   "execution_count": 8,
   "id": "3c946c65-5457-4722-8c48-d6d0a5e9d822",
   "metadata": {},
   "outputs": [],
   "source": [
    "f = open(\"coloredReads.txt\", \"w\")\n",
    "for key, value in readsDict.items():\n",
    "    read = value[0]\n",
    "    substringArray = substringsDict[key]\n",
    "    colored_read = color_substrings(substringArray, read)\n",
    "    f.write(\">\" + key + '\\n')\n",
    "    f.write(colored_read + '\\n')\n",
    "f.close()\n",
    "\n"
   ]
  },
  {
   "cell_type": "code",
   "execution_count": 15,
   "id": "96036a4d-8f06-4f3d-80c6-f16115c988e0",
   "metadata": {},
   "outputs": [
    {
     "name": "stdout",
     "output_type": "stream",
     "text": [
      "[(1, 2, 'plus'), (3, 3, 'null'), (4, 4, 'minus'), (5, 5, 'null'), (6, 6, 'null'), (7, 7, 'null')]\n"
     ]
    }
   ],
   "source": []
  },
  {
   "cell_type": "code",
   "execution_count": 16,
   "id": "ec1778d1-9e6e-4321-bde6-f15e9659d3e1",
   "metadata": {},
   "outputs": [
    {
     "name": "stdout",
     "output_type": "stream",
     "text": [
      "[(1, 2, 'plus'), (3, 3, 'null'), (4, 4, 'minus'), (5, 5, 'null'), (6, 6, 'null'), (7, 7, 'null')]\n"
     ]
    }
   ],
   "source": []
  },
  {
   "cell_type": "code",
   "execution_count": null,
   "id": "d83f8c55-7430-403d-80c3-364e9ce27590",
   "metadata": {},
   "outputs": [],
   "source": []
  }
 ],
 "metadata": {
  "kernelspec": {
   "display_name": "Python 3",
   "language": "python",
   "name": "python3"
  },
  "language_info": {
   "codemirror_mode": {
    "name": "ipython",
    "version": 3
   },
   "file_extension": ".py",
   "mimetype": "text/x-python",
   "name": "python",
   "nbconvert_exporter": "python",
   "pygments_lexer": "ipython3",
   "version": "3.8.3"
  }
 },
 "nbformat": 4,
 "nbformat_minor": 5
}
