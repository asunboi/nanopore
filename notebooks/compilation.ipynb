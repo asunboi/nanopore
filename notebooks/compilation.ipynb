{
 "cells": [
  {
   "cell_type": "code",
   "execution_count": 61,
   "id": "17d8a37e-4c22-44b4-b6c0-a5246f46ad52",
   "metadata": {},
   "outputs": [],
   "source": [
    "# importing pandas\n",
    "from matplotlib import pyplot as plt \n",
    "import pandas as pd\n",
    "import sys\n",
    "from itertools import islice\n",
    "import ast\n"
   ]
  },
  {
   "cell_type": "code",
   "execution_count": 62,
   "id": "15b00722-2040-4a73-96bc-5229770f0240",
   "metadata": {},
   "outputs": [],
   "source": [
    "def take(n, iterable):\n",
    "    \"\"\"Return the first n items of the iterable as a list.\"\"\"\n",
    "    return list(islice(iterable, n))"
   ]
  },
  {
   "cell_type": "code",
   "execution_count": 70,
   "id": "0d1dcf5d-af3c-4cdc-a63a-cf48b78af5bc",
   "metadata": {},
   "outputs": [
    {
     "name": "stdout",
     "output_type": "stream",
     "text": [
      "[(6, 7, 'he'), (6, 7, 'av')]\n",
      "[(1, 2, 'te'), (3, 3, 's'), (4, 5, 'ti'), (6, 7, 'ng'), (20, 20, 'l')]\n",
      "testing\n",
      "[(1, 2, 'te'), (7, 9, 'g')]\n"
     ]
    }
   ],
   "source": [
    "def create_tuples(array1, string1):\n",
    "    result_tuples = []\n",
    "\n",
    "    for arr in array1:\n",
    "        start1, end1 = arr[0]\n",
    "        start2, end2 = arr[1]\n",
    "        substring = string1[start1 - 1:end1]\n",
    "        result_tuples.append((start2, end2, substring))\n",
    "\n",
    "    return result_tuples\n",
    "\n",
    "Array1 = [[(1, 2), (6, 7)], [(3, 4), (6, 7)]]\n",
    "String1 = \"heavenly\"\n",
    "\n",
    "output = create_tuples(Array1, String1)\n",
    "print(output)\n",
    "\n",
    "def sort_and_insert_tuples(Array1, Array2):\n",
    "    result = []\n",
    "    i = 0\n",
    "\n",
    "    for a2 in Array2:\n",
    "        first_int_a2 = int(a2[0])\n",
    "        while i < len(Array1) and first_int_a2 > int(Array1[i][1]):\n",
    "            result.append(Array1[i])\n",
    "            i += 1\n",
    "        \n",
    "        result.append(a2)\n",
    "    \n",
    "    result.extend(Array1[i:])\n",
    "    \n",
    "    return result\n",
    "\n",
    "Array1 = [(1, 2, 'te'), (4, 5, 'ti')]\n",
    "Array2 = [(3, 3, 's'), (6, 7, 'ng'), (20,20,\"l\")]\n",
    "\n",
    "output = sort_and_insert_tuples(Array1, Array2)\n",
    "print(output)\n",
    "\n",
    "def concatenate_tuples(arr):\n",
    "    concatenated_string = ''.join(tup[2] for tup in arr)\n",
    "    return concatenated_string\n",
    "\n",
    "input_array = [(1, 2, 'te'), (3, 3, 's'), (4, 5, 'ti'), (6, 7, 'ng')]\n",
    "output_string = concatenate_tuples(input_array)\n",
    "print(output_string)\n",
    "\n",
    "def compare_and_combine(array1, array2):\n",
    "    result = []\n",
    "\n",
    "    for a2 in array2:\n",
    "        for a1 in array1:\n",
    "            if a1[0][0] <= a2[0] <= a1[0][1] and a1[0][0] <= a2[1] <= a1[0][1]:\n",
    "                result.append((a2[0]+a1[2],a2[1]+a1[2], a2[2]))\n",
    "\n",
    "    return result\n",
    "\n",
    "array1 = [[(1, 2), (1, 2), 0], [(3, 5), (7, 9), 4]]\n",
    "array2 = [(1, 2, \"te\"), (3, 5, \"g\")]\n",
    "\n",
    "output = compare_and_combine(array1, array2)\n",
    "print(output)"
   ]
  },
  {
   "cell_type": "code",
   "execution_count": 64,
   "id": "b21e98c9-0da6-4ed6-b7af-ad82d7f05c73",
   "metadata": {},
   "outputs": [
    {
     "name": "stdout",
     "output_type": "stream",
     "text": [
      "Number of lines in the file: 2\n"
     ]
    }
   ],
   "source": [
    "file_path = \"all.remaining.txt\"  # Replace with the path to your file\n",
    "\n",
    "line_count = 0\n",
    "\n",
    "with open(file_path, \"r\") as file:\n",
    "    for line in file:\n",
    "        line_count += 1\n",
    "\n",
    "print(f\"Number of lines in the file: {line_count}\")\n"
   ]
  },
  {
   "cell_type": "code",
   "execution_count": 65,
   "id": "01fcbaee-c0c7-4ee7-b596-233d6d133bbb",
   "metadata": {},
   "outputs": [
    {
     "name": "stdout",
     "output_type": "stream",
     "text": [
      "1\n",
      "2\n"
     ]
    }
   ],
   "source": [
    "for i in range(1,line_count+1):\n",
    "    print(i)"
   ]
  },
  {
   "cell_type": "code",
   "execution_count": 66,
   "id": "45fff72c-b1b9-4fb1-a762-80552a066b0d",
   "metadata": {},
   "outputs": [
    {
     "name": "stdout",
     "output_type": "stream",
     "text": [
      "[(1, 2, 'te'), (7, 9, 'g')]\n"
     ]
    }
   ],
   "source": [
    "def compare_and_combine(array1, array2):\n",
    "    result = []\n",
    "\n",
    "    for a2 in array2:\n",
    "        for a1 in array1:\n",
    "            if a1[0][0] <= a2[0] <= a1[0][1] and a1[0][0] <= a2[1] <= a1[0][1]:\n",
    "                result.append((a2[0]+a1[2],a2[1]+a1[2], a2[2]))\n",
    "\n",
    "    return result\n",
    "\n",
    "array1 = [[(1, 2), (1, 2), 0], [(3, 5), (7, 9), 4]]\n",
    "array2 = [(1, 2, \"te\"), (3, 5, \"g\")]\n",
    "\n",
    "output = compare_and_combine(array1, array2)\n",
    "print(output)"
   ]
  },
  {
   "cell_type": "code",
   "execution_count": 67,
   "id": "82bec87a-1101-42f3-a312-a2ef1e69b921",
   "metadata": {},
   "outputs": [],
   "source": [
    "substringsDict = {}\n",
    "\n",
    "for i in range(1,line_count+1):\n",
    "    if i == 1:\n",
    "        with open(f'{i}_filter.substrings.txt', 'r') as file:\n",
    "            for line in file:\n",
    "                try:\n",
    "                    tempArray = eval(line)\n",
    "                    key = tempArray[0]\n",
    "                    values = tempArray[1:]\n",
    "\n",
    "                    if key in substringsDict:\n",
    "                        substringsDict[key].extend(values)\n",
    "                    else:\n",
    "                        substringsDict[key] = values\n",
    "                except Exception as e:\n",
    "                    print(f\"Error evaluating line: {line}\")\n",
    "                    print(f\"Error message: {e}\")\n",
    "        file.close()\n",
    "    else:\n",
    "        tempDict = {}\n",
    "        with open(f'{i-1}_filter.remaining.txt', 'r') as file:\n",
    "            for line in file:\n",
    "                try:\n",
    "                    tempArray = ast.literal_eval(line)\n",
    "                    if isinstance(tempArray, list):\n",
    "                        key = tempArray[0]\n",
    "                        values = tempArray[1:]\n",
    "                        if key in tempDict:\n",
    "                            tempDict[key].extend(values)\n",
    "                        else:\n",
    "                            tempDict[key] = values\n",
    "                    else:\n",
    "                        print(\"The evaluated result is not a list.\")\n",
    "                except (SyntaxError, ValueError):\n",
    "                    print(\"Invalid input string.\")\n",
    "        file.close()\n",
    "        with open(f'{i}_filter.substrings.txt', 'r') as file:\n",
    "            for line in file:\n",
    "                try:\n",
    "                    tempArray = eval(line)\n",
    "                    key = tempArray[0]\n",
    "                    values = tempArray[1:]\n",
    "                    remainingArray = tempDict[key]\n",
    "                    #print(\"Values:\")\n",
    "                    #print(values)\n",
    "                    #print(\"Remaining Array:\")\n",
    "                    #print(remainingArray)\n",
    "                    newValues = compare_and_combine(remainingArray, values)\n",
    "                    #print(\"New Values:\")\n",
    "                    #print(newValues)\n",
    "                    currentValues = substringsDict[key]\n",
    "                    #print(newValues)\n",
    "                    #print(\"Current Values:\")\n",
    "                    #print(currentValues)\n",
    "                    sortedValues = sort_and_insert_tuples(newValues, currentValues)\n",
    "                    substringsDict[key] = sortedValues\n",
    "                except Exception as e:\n",
    "                    print(f\"Error evaluating line: {line}\")\n",
    "                    print(f\"Error message: {e}\")\n",
    "        file.close()\n",
    "\n",
    "        \n",
    "    "
   ]
  },
  {
   "cell_type": "code",
   "execution_count": 68,
   "id": "14b19da2-72f5-4cfc-a085-f8fa13f9ff64",
   "metadata": {},
   "outputs": [],
   "source": [
    "f = open(\"LHS\" + \".fa\", \"w\")\n",
    "for key, value in substringsDict.items():\n",
    "    LHS = concatenate_tuples(value)\n",
    "    f.write(\">\" + key + '\\n')\n",
    "    f.write(LHS + '\\n')\n",
    "f.close()"
   ]
  },
  {
   "cell_type": "code",
   "execution_count": null,
   "id": "52e86830-a852-4ae3-b8bd-f42a5bac2820",
   "metadata": {},
   "outputs": [],
   "source": []
  }
 ],
 "metadata": {
  "kernelspec": {
   "display_name": "Python 3",
   "language": "python",
   "name": "python3"
  },
  "language_info": {
   "codemirror_mode": {
    "name": "ipython",
    "version": 3
   },
   "file_extension": ".py",
   "mimetype": "text/x-python",
   "name": "python",
   "nbconvert_exporter": "python",
   "pygments_lexer": "ipython3",
   "version": "3.8.3"
  }
 },
 "nbformat": 4,
 "nbformat_minor": 5
}
