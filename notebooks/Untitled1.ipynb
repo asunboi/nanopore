{
 "cells": [
  {
   "cell_type": "code",
   "execution_count": 3,
   "id": "0e2f9cb2-83c5-443a-b60b-47d19a58fcc0",
   "metadata": {},
   "outputs": [
    {
     "name": "stdout",
     "output_type": "stream",
     "text": [
      "\n"
     ]
    }
   ],
   "source": [
    "test=\"test\"\n",
    "print(test[4:])\n"
   ]
  },
  {
   "cell_type": "code",
   "execution_count": null,
   "id": "8ca842e4-893c-44fa-9384-906647055647",
   "metadata": {},
   "outputs": [],
   "source": []
  }
 ],
 "metadata": {
  "kernelspec": {
   "display_name": "Python 3",
   "language": "python",
   "name": "python3"
  },
  "language_info": {
   "codemirror_mode": {
    "name": "ipython",
    "version": 3
   },
   "file_extension": ".py",
   "mimetype": "text/x-python",
   "name": "python",
   "nbconvert_exporter": "python",
   "pygments_lexer": "ipython3",
   "version": "3.8.3"
  }
 },
 "nbformat": 4,
 "nbformat_minor": 5
}
