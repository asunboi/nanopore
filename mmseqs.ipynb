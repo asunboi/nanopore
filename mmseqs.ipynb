{
 "cells": [
  {
   "cell_type": "code",
   "execution_count": 24,
   "id": "8a6a0d8c-4eee-4428-ab37-9326b1b71b51",
   "metadata": {},
   "outputs": [],
   "source": [
    "# importing pandas\n",
    "from matplotlib import pyplot as plt \n",
    "import pandas as pd"
   ]
  },
  {
   "cell_type": "code",
   "execution_count": 182,
   "id": "760588df-1b76-4abf-8517-b84ab345a00e",
   "metadata": {},
   "outputs": [
    {
     "name": "stdout",
     "output_type": "stream",
     "text": [
      "a9fc5561-5aec-474c-a019-54480ded2241\n"
     ]
    },
    {
     "data": {
      "text/plain": [
       "749"
      ]
     },
     "execution_count": 182,
     "metadata": {},
     "output_type": "execute_result"
    }
   ],
   "source": [
    "# read text file into pandas DataFrame\n",
    "df = pd.read_csv(\"ss_cluster.tsv\", sep=\"\\t\", header=None)\n",
    "  \n",
    "# display DataFrame\n",
    "paramsArray = df.to_numpy()\n",
    "paramsDict = {}\n",
    "\n",
    "\n",
    "for i in paramsArray:\n",
    "    if i[0] in paramsDict:\n",
    "        paramsDict[i[0]].append(i[1])\n",
    "    else:\n",
    "        tempArray = [i[1]]\n",
    "        paramsDict[i[0]] = tempArray\n",
    "        \n",
    "#paramsDict\n",
    "#readLength = df[2].to_numpy()\n",
    "len(paramsDict)\n",
    "#print(paramsDict['a0384158-e04c-4e67-a644-28b5d2d5481a'])\n",
    "rep = pd.read_csv(\"ss1.2_cluster.tsv\", sep=\"\\t\", header=None)\n",
    "\n",
    "# display DataFrame\n",
    "repsArray = rep.to_numpy()\n",
    "repsDict = {}\n",
    "\n",
    "\n",
    "for i in repsArray:\n",
    "    if i[0] in repsDict:\n",
    "        repsDict[i[0]].append(i[1])\n",
    "    else:\n",
    "        tempArray = [i[1]]\n",
    "        repsDict[i[0]] = tempArray\n",
    "    \n",
    "#readLength = df[2].to_numpy()\n",
    "#len(repsDict)\n",
    "\n",
    "len(paramsDict)\n",
    "#print(paramsDict['dc83fe5f-194a-4a68-9e10-2b8a6a236e91'])\n",
    "for repKey, repValue in repsDict.items():\n",
    "    #print(repKey)\n",
    "    tempRepValue = []\n",
    "    for v in repValue:\n",
    "        \n",
    "        #print(v)\n",
    "        #repsDict[repKey].remove(v)\n",
    "        #print(paramsDict[v])\n",
    "        tempRepValue.extend(paramsDict[v])\n",
    "        if v == 'a0384158-e04c-4e67-a644-28b5d2d5481a':\n",
    "            print(repKey)\n",
    "        #print(tempRepValue)\n",
    "        #del paramsDict[v]\n",
    "    repsDict[repKey] = tempRepValue\n",
    "\n",
    "len(paramsDict)"
   ]
  },
  {
   "cell_type": "code",
   "execution_count": 161,
   "id": "b9323f6b-1a1f-4a60-9633-c87def1332af",
   "metadata": {},
   "outputs": [],
   "source": [
    "#repsDict['60d56ef5-dee9-4c09-9897-a7305c60d465']"
   ]
  },
  {
   "cell_type": "code",
   "execution_count": 157,
   "id": "2c4ed44b-8f94-45a7-b44c-8bbcbd4e1f68",
   "metadata": {},
   "outputs": [],
   "source": [
    "#len(repsDict.keys())\n",
    "#for key, value in repsDict.items():\n",
    "    #print(key + \" Length: \" + str(len(value)))"
   ]
  },
  {
   "cell_type": "code",
   "execution_count": 186,
   "id": "43ae57d4-fccb-4c87-860d-489fbcd344a1",
   "metadata": {},
   "outputs": [
    {
     "name": "stdout",
     "output_type": "stream",
     "text": [
      "37\n"
     ]
    },
    {
     "data": {
      "text/plain": [
       "'\\nfor key, value in modifiedParamsArray.items():\\n    print(key + \" Length: \" + str(len(value)))\\n    \\nfor key in modifiedParamsArray:\\n    print(key)\\n'"
      ]
     },
     "execution_count": 186,
     "metadata": {},
     "output_type": "execute_result"
    }
   ],
   "source": [
    "modifiedParamsArray = {}\n",
    "\n",
    "#for key, value in paramsDict.items():\n",
    "    #print(key + \" Length: \" + str(len(value)))\n",
    "\n",
    "for key, value in repsDict.items():\n",
    "    if len(value) > 30:\n",
    "        modifiedParamsArray[key] = value\n",
    "\n",
    "print(len(modifiedParamsArray))\n",
    "\n",
    "'''\n",
    "for key, value in modifiedParamsArray.items():\n",
    "    print(key + \" Length: \" + str(len(value)))\n",
    "    \n",
    "for key in modifiedParamsArray:\n",
    "    print(key)\n",
    "'''\n",
    "\n",
    "#print(modifiedParamsArray)"
   ]
  },
  {
   "cell_type": "code",
   "execution_count": 191,
   "id": "ea464ca3-929a-4e9b-9a38-2cd4f3c555a5",
   "metadata": {},
   "outputs": [
    {
     "name": "stdout",
     "output_type": "stream",
     "text": [
      "60d56ef5-dee9-4c09-9897-a7305c60d465\n"
     ]
    }
   ],
   "source": [
    "search = \"dc83fe5f-194a-4a68-9e10-2b8a6a236e91\"\n",
    "\n",
    "for key, value in modifiedParamsArray.items():\n",
    "    if search in value:\n",
    "        print(key)"
   ]
  },
  {
   "cell_type": "code",
   "execution_count": 181,
   "id": "cc95e482-2f6f-4560-8d3c-a35cbf49ecbc",
   "metadata": {},
   "outputs": [],
   "source": [
    "with open('name.lst', 'w') as f:\n",
    "    for key in modifiedParamsArray.keys():\n",
    "        f.write(\"%s\\n\" % key)"
   ]
  },
  {
   "cell_type": "code",
   "execution_count": 121,
   "id": "719b045c-9c9b-4135-ade6-c9fd1126d461",
   "metadata": {},
   "outputs": [
    {
     "ename": "SyntaxError",
     "evalue": "unexpected EOF while parsing (<ipython-input-121-3b52dc01427a>, line 15)",
     "output_type": "error",
     "traceback": [
      "\u001b[0;36m  File \u001b[0;32m\"<ipython-input-121-3b52dc01427a>\"\u001b[0;36m, line \u001b[0;32m15\u001b[0m\n\u001b[0;31m    \u001b[0m\n\u001b[0m    ^\u001b[0m\n\u001b[0;31mSyntaxError\u001b[0m\u001b[0;31m:\u001b[0m unexpected EOF while parsing\n"
     ]
    }
   ],
   "source": [
    "modifiedParamsArray = {}\n",
    "\n",
    "#for key, value in paramsDict.items():\n",
    "    #print(key + \" Length: \" + str(len(value)))\n",
    "\n",
    "for key, value in paramsDict.items():\n",
    "    if len(value) > 10:\n",
    "        modifiedParamsArray[key] = value\n",
    "\n",
    "#print(len(modifiedParamsArray))\n",
    "\n",
    "for key, value in modifiedParamsArray.items():\n",
    "    #print(key + \" Length: \" + str(len(value)))\n",
    "#modifiedParamsArray\n",
    "        "
   ]
  },
  {
   "cell_type": "code",
   "execution_count": null,
   "id": "8604df21-a346-4e12-a5ba-01a8d40cc9d8",
   "metadata": {},
   "outputs": [],
   "source": []
  }
 ],
 "metadata": {
  "kernelspec": {
   "display_name": "Python 3",
   "language": "python",
   "name": "python3"
  },
  "language_info": {
   "codemirror_mode": {
    "name": "ipython",
    "version": 3
   },
   "file_extension": ".py",
   "mimetype": "text/x-python",
   "name": "python",
   "nbconvert_exporter": "python",
   "pygments_lexer": "ipython3",
   "version": "3.8.3"
  }
 },
 "nbformat": 4,
 "nbformat_minor": 5
}
